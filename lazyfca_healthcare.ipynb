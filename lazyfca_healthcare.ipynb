{
 "cells": [
  {
   "cell_type": "code",
   "execution_count": 1,
   "metadata": {},
   "outputs": [],
   "source": [
    "import pandas as pd\n",
    "import numpy as np"
   ]
  },
  {
   "attachments": {},
   "cell_type": "markdown",
   "metadata": {},
   "source": [
    "# Prepare Heart data"
   ]
  },
  {
   "cell_type": "code",
   "execution_count": 2,
   "metadata": {},
   "outputs": [
    {
     "data": {
      "text/html": [
       "<div>\n",
       "<style scoped>\n",
       "    .dataframe tbody tr th:only-of-type {\n",
       "        vertical-align: middle;\n",
       "    }\n",
       "\n",
       "    .dataframe tbody tr th {\n",
       "        vertical-align: top;\n",
       "    }\n",
       "\n",
       "    .dataframe thead th {\n",
       "        text-align: right;\n",
       "    }\n",
       "</style>\n",
       "<table border=\"1\" class=\"dataframe\">\n",
       "  <thead>\n",
       "    <tr style=\"text-align: right;\">\n",
       "      <th></th>\n",
       "      <th>gender</th>\n",
       "      <th>age</th>\n",
       "      <th>hypertension</th>\n",
       "      <th>heart_disease</th>\n",
       "      <th>ever_married</th>\n",
       "      <th>work_type</th>\n",
       "      <th>Residence_type</th>\n",
       "      <th>avg_glucose_level</th>\n",
       "      <th>bmi</th>\n",
       "      <th>smoking_status</th>\n",
       "      <th>stroke</th>\n",
       "    </tr>\n",
       "  </thead>\n",
       "  <tbody>\n",
       "    <tr>\n",
       "      <th>0</th>\n",
       "      <td>Male</td>\n",
       "      <td>67.0</td>\n",
       "      <td>0</td>\n",
       "      <td>1</td>\n",
       "      <td>Yes</td>\n",
       "      <td>Private</td>\n",
       "      <td>Urban</td>\n",
       "      <td>228.69</td>\n",
       "      <td>36.6</td>\n",
       "      <td>formerly smoked</td>\n",
       "      <td>1</td>\n",
       "    </tr>\n",
       "    <tr>\n",
       "      <th>1</th>\n",
       "      <td>Male</td>\n",
       "      <td>80.0</td>\n",
       "      <td>0</td>\n",
       "      <td>1</td>\n",
       "      <td>Yes</td>\n",
       "      <td>Private</td>\n",
       "      <td>Rural</td>\n",
       "      <td>105.92</td>\n",
       "      <td>32.5</td>\n",
       "      <td>never smoked</td>\n",
       "      <td>1</td>\n",
       "    </tr>\n",
       "    <tr>\n",
       "      <th>2</th>\n",
       "      <td>Female</td>\n",
       "      <td>49.0</td>\n",
       "      <td>0</td>\n",
       "      <td>0</td>\n",
       "      <td>Yes</td>\n",
       "      <td>Private</td>\n",
       "      <td>Urban</td>\n",
       "      <td>171.23</td>\n",
       "      <td>34.4</td>\n",
       "      <td>smokes</td>\n",
       "      <td>1</td>\n",
       "    </tr>\n",
       "    <tr>\n",
       "      <th>3</th>\n",
       "      <td>Female</td>\n",
       "      <td>79.0</td>\n",
       "      <td>1</td>\n",
       "      <td>0</td>\n",
       "      <td>Yes</td>\n",
       "      <td>Self-employed</td>\n",
       "      <td>Rural</td>\n",
       "      <td>174.12</td>\n",
       "      <td>24.0</td>\n",
       "      <td>never smoked</td>\n",
       "      <td>1</td>\n",
       "    </tr>\n",
       "    <tr>\n",
       "      <th>4</th>\n",
       "      <td>Male</td>\n",
       "      <td>81.0</td>\n",
       "      <td>0</td>\n",
       "      <td>0</td>\n",
       "      <td>Yes</td>\n",
       "      <td>Private</td>\n",
       "      <td>Urban</td>\n",
       "      <td>186.21</td>\n",
       "      <td>29.0</td>\n",
       "      <td>formerly smoked</td>\n",
       "      <td>1</td>\n",
       "    </tr>\n",
       "    <tr>\n",
       "      <th>...</th>\n",
       "      <td>...</td>\n",
       "      <td>...</td>\n",
       "      <td>...</td>\n",
       "      <td>...</td>\n",
       "      <td>...</td>\n",
       "      <td>...</td>\n",
       "      <td>...</td>\n",
       "      <td>...</td>\n",
       "      <td>...</td>\n",
       "      <td>...</td>\n",
       "      <td>...</td>\n",
       "    </tr>\n",
       "    <tr>\n",
       "      <th>4904</th>\n",
       "      <td>Female</td>\n",
       "      <td>13.0</td>\n",
       "      <td>0</td>\n",
       "      <td>0</td>\n",
       "      <td>No</td>\n",
       "      <td>children</td>\n",
       "      <td>Rural</td>\n",
       "      <td>103.08</td>\n",
       "      <td>18.6</td>\n",
       "      <td>Unknown</td>\n",
       "      <td>0</td>\n",
       "    </tr>\n",
       "    <tr>\n",
       "      <th>4905</th>\n",
       "      <td>Female</td>\n",
       "      <td>81.0</td>\n",
       "      <td>0</td>\n",
       "      <td>0</td>\n",
       "      <td>Yes</td>\n",
       "      <td>Self-employed</td>\n",
       "      <td>Urban</td>\n",
       "      <td>125.20</td>\n",
       "      <td>40.0</td>\n",
       "      <td>never smoked</td>\n",
       "      <td>0</td>\n",
       "    </tr>\n",
       "    <tr>\n",
       "      <th>4906</th>\n",
       "      <td>Female</td>\n",
       "      <td>35.0</td>\n",
       "      <td>0</td>\n",
       "      <td>0</td>\n",
       "      <td>Yes</td>\n",
       "      <td>Self-employed</td>\n",
       "      <td>Rural</td>\n",
       "      <td>82.99</td>\n",
       "      <td>30.6</td>\n",
       "      <td>never smoked</td>\n",
       "      <td>0</td>\n",
       "    </tr>\n",
       "    <tr>\n",
       "      <th>4907</th>\n",
       "      <td>Male</td>\n",
       "      <td>51.0</td>\n",
       "      <td>0</td>\n",
       "      <td>0</td>\n",
       "      <td>Yes</td>\n",
       "      <td>Private</td>\n",
       "      <td>Rural</td>\n",
       "      <td>166.29</td>\n",
       "      <td>25.6</td>\n",
       "      <td>formerly smoked</td>\n",
       "      <td>0</td>\n",
       "    </tr>\n",
       "    <tr>\n",
       "      <th>4908</th>\n",
       "      <td>Female</td>\n",
       "      <td>44.0</td>\n",
       "      <td>0</td>\n",
       "      <td>0</td>\n",
       "      <td>Yes</td>\n",
       "      <td>Govt_job</td>\n",
       "      <td>Urban</td>\n",
       "      <td>85.28</td>\n",
       "      <td>26.2</td>\n",
       "      <td>Unknown</td>\n",
       "      <td>0</td>\n",
       "    </tr>\n",
       "  </tbody>\n",
       "</table>\n",
       "<p>4909 rows × 11 columns</p>\n",
       "</div>"
      ],
      "text/plain": [
       "      gender   age  hypertension  heart_disease ever_married      work_type  \\\n",
       "0       Male  67.0             0              1          Yes        Private   \n",
       "1       Male  80.0             0              1          Yes        Private   \n",
       "2     Female  49.0             0              0          Yes        Private   \n",
       "3     Female  79.0             1              0          Yes  Self-employed   \n",
       "4       Male  81.0             0              0          Yes        Private   \n",
       "...      ...   ...           ...            ...          ...            ...   \n",
       "4904  Female  13.0             0              0           No       children   \n",
       "4905  Female  81.0             0              0          Yes  Self-employed   \n",
       "4906  Female  35.0             0              0          Yes  Self-employed   \n",
       "4907    Male  51.0             0              0          Yes        Private   \n",
       "4908  Female  44.0             0              0          Yes       Govt_job   \n",
       "\n",
       "     Residence_type  avg_glucose_level   bmi   smoking_status  stroke  \n",
       "0             Urban             228.69  36.6  formerly smoked       1  \n",
       "1             Rural             105.92  32.5     never smoked       1  \n",
       "2             Urban             171.23  34.4           smokes       1  \n",
       "3             Rural             174.12  24.0     never smoked       1  \n",
       "4             Urban             186.21  29.0  formerly smoked       1  \n",
       "...             ...                ...   ...              ...     ...  \n",
       "4904          Rural             103.08  18.6          Unknown       0  \n",
       "4905          Urban             125.20  40.0     never smoked       0  \n",
       "4906          Rural              82.99  30.6     never smoked       0  \n",
       "4907          Rural             166.29  25.6  formerly smoked       0  \n",
       "4908          Urban              85.28  26.2          Unknown       0  \n",
       "\n",
       "[4909 rows x 11 columns]"
      ]
     },
     "execution_count": 2,
     "metadata": {},
     "output_type": "execute_result"
    }
   ],
   "source": [
    "df = pd.read_csv(\"dataset/healthcare-dataset-stroke-data.csv\", sep=',')\n",
    "df = df.drop('id', axis=1)\n",
    "df = df.dropna()\n",
    "df = df.reset_index(drop=True)\n",
    "df"
   ]
  },
  {
   "cell_type": "code",
   "execution_count": 3,
   "metadata": {},
   "outputs": [
    {
     "data": {
      "text/plain": [
       "gender                object\n",
       "age                  float64\n",
       "hypertension           int64\n",
       "heart_disease          int64\n",
       "ever_married          object\n",
       "work_type             object\n",
       "Residence_type        object\n",
       "avg_glucose_level    float64\n",
       "bmi                  float64\n",
       "smoking_status        object\n",
       "stroke                 int64\n",
       "dtype: object"
      ]
     },
     "execution_count": 3,
     "metadata": {},
     "output_type": "execute_result"
    }
   ],
   "source": [
    "df.dtypes"
   ]
  },
  {
   "cell_type": "code",
   "execution_count": 4,
   "metadata": {},
   "outputs": [],
   "source": [
    "numerical_fields = ['age',  'avg_glucose_level', 'bmi']\n",
    "categorical = ['gender', 'hypertension', 'ever_married', 'work_type', 'heart_disease', 'Residence_type', 'smoking_status']"
   ]
  },
  {
   "cell_type": "code",
   "execution_count": 5,
   "metadata": {},
   "outputs": [
    {
     "data": {
      "text/html": [
       "<div>\n",
       "<style scoped>\n",
       "    .dataframe tbody tr th:only-of-type {\n",
       "        vertical-align: middle;\n",
       "    }\n",
       "\n",
       "    .dataframe tbody tr th {\n",
       "        vertical-align: top;\n",
       "    }\n",
       "\n",
       "    .dataframe thead th {\n",
       "        text-align: right;\n",
       "    }\n",
       "</style>\n",
       "<table border=\"1\" class=\"dataframe\">\n",
       "  <thead>\n",
       "    <tr style=\"text-align: right;\">\n",
       "      <th></th>\n",
       "      <th>count</th>\n",
       "      <th>mean</th>\n",
       "      <th>std</th>\n",
       "      <th>min</th>\n",
       "      <th>25%</th>\n",
       "      <th>50%</th>\n",
       "      <th>75%</th>\n",
       "      <th>max</th>\n",
       "    </tr>\n",
       "  </thead>\n",
       "  <tbody>\n",
       "    <tr>\n",
       "      <th>age</th>\n",
       "      <td>4909.0</td>\n",
       "      <td>42.865374</td>\n",
       "      <td>22.555115</td>\n",
       "      <td>0.08</td>\n",
       "      <td>25.00</td>\n",
       "      <td>44.00</td>\n",
       "      <td>60.00</td>\n",
       "      <td>82.00</td>\n",
       "    </tr>\n",
       "    <tr>\n",
       "      <th>avg_glucose_level</th>\n",
       "      <td>4909.0</td>\n",
       "      <td>105.305150</td>\n",
       "      <td>44.424341</td>\n",
       "      <td>55.12</td>\n",
       "      <td>77.07</td>\n",
       "      <td>91.68</td>\n",
       "      <td>113.57</td>\n",
       "      <td>271.74</td>\n",
       "    </tr>\n",
       "    <tr>\n",
       "      <th>bmi</th>\n",
       "      <td>4909.0</td>\n",
       "      <td>28.893237</td>\n",
       "      <td>7.854067</td>\n",
       "      <td>10.30</td>\n",
       "      <td>23.50</td>\n",
       "      <td>28.10</td>\n",
       "      <td>33.10</td>\n",
       "      <td>97.60</td>\n",
       "    </tr>\n",
       "  </tbody>\n",
       "</table>\n",
       "</div>"
      ],
      "text/plain": [
       "                    count        mean        std    min    25%    50%     75%  \\\n",
       "age                4909.0   42.865374  22.555115   0.08  25.00  44.00   60.00   \n",
       "avg_glucose_level  4909.0  105.305150  44.424341  55.12  77.07  91.68  113.57   \n",
       "bmi                4909.0   28.893237   7.854067  10.30  23.50  28.10   33.10   \n",
       "\n",
       "                      max  \n",
       "age                 82.00  \n",
       "avg_glucose_level  271.74  \n",
       "bmi                 97.60  "
      ]
     },
     "execution_count": 5,
     "metadata": {},
     "output_type": "execute_result"
    }
   ],
   "source": [
    "df[numerical_fields].describe(include='all').T"
   ]
  },
  {
   "cell_type": "code",
   "execution_count": 6,
   "metadata": {},
   "outputs": [
    {
     "data": {
      "text/html": [
       "<div>\n",
       "<style scoped>\n",
       "    .dataframe tbody tr th:only-of-type {\n",
       "        vertical-align: middle;\n",
       "    }\n",
       "\n",
       "    .dataframe tbody tr th {\n",
       "        vertical-align: top;\n",
       "    }\n",
       "\n",
       "    .dataframe thead th {\n",
       "        text-align: right;\n",
       "    }\n",
       "</style>\n",
       "<table border=\"1\" class=\"dataframe\">\n",
       "  <thead>\n",
       "    <tr style=\"text-align: right;\">\n",
       "      <th></th>\n",
       "      <th>count</th>\n",
       "      <th>unique</th>\n",
       "      <th>top</th>\n",
       "      <th>freq</th>\n",
       "    </tr>\n",
       "  </thead>\n",
       "  <tbody>\n",
       "    <tr>\n",
       "      <th>gender</th>\n",
       "      <td>4909</td>\n",
       "      <td>3</td>\n",
       "      <td>Female</td>\n",
       "      <td>2897</td>\n",
       "    </tr>\n",
       "    <tr>\n",
       "      <th>hypertension</th>\n",
       "      <td>4909</td>\n",
       "      <td>2</td>\n",
       "      <td>0</td>\n",
       "      <td>4458</td>\n",
       "    </tr>\n",
       "    <tr>\n",
       "      <th>ever_married</th>\n",
       "      <td>4909</td>\n",
       "      <td>2</td>\n",
       "      <td>Yes</td>\n",
       "      <td>3204</td>\n",
       "    </tr>\n",
       "    <tr>\n",
       "      <th>work_type</th>\n",
       "      <td>4909</td>\n",
       "      <td>5</td>\n",
       "      <td>Private</td>\n",
       "      <td>2811</td>\n",
       "    </tr>\n",
       "    <tr>\n",
       "      <th>heart_disease</th>\n",
       "      <td>4909</td>\n",
       "      <td>2</td>\n",
       "      <td>0</td>\n",
       "      <td>4666</td>\n",
       "    </tr>\n",
       "    <tr>\n",
       "      <th>Residence_type</th>\n",
       "      <td>4909</td>\n",
       "      <td>2</td>\n",
       "      <td>Urban</td>\n",
       "      <td>2490</td>\n",
       "    </tr>\n",
       "    <tr>\n",
       "      <th>smoking_status</th>\n",
       "      <td>4909</td>\n",
       "      <td>4</td>\n",
       "      <td>never smoked</td>\n",
       "      <td>1852</td>\n",
       "    </tr>\n",
       "    <tr>\n",
       "      <th>stroke</th>\n",
       "      <td>4909</td>\n",
       "      <td>2</td>\n",
       "      <td>0</td>\n",
       "      <td>4700</td>\n",
       "    </tr>\n",
       "  </tbody>\n",
       "</table>\n",
       "</div>"
      ],
      "text/plain": [
       "               count unique           top  freq\n",
       "gender          4909      3        Female  2897\n",
       "hypertension    4909      2             0  4458\n",
       "ever_married    4909      2           Yes  3204\n",
       "work_type       4909      5       Private  2811\n",
       "heart_disease   4909      2             0  4666\n",
       "Residence_type  4909      2         Urban  2490\n",
       "smoking_status  4909      4  never smoked  1852\n",
       "stroke          4909      2             0  4700"
      ]
     },
     "execution_count": 6,
     "metadata": {},
     "output_type": "execute_result"
    }
   ],
   "source": [
    "df[categorical + ['stroke']].astype(str).describe(include='all').T"
   ]
  },
  {
   "cell_type": "code",
   "execution_count": 7,
   "metadata": {},
   "outputs": [
    {
     "data": {
      "text/plain": [
       "(4909, 10)"
      ]
     },
     "execution_count": 7,
     "metadata": {},
     "output_type": "execute_result"
    }
   ],
   "source": [
    "from sklearn.model_selection import train_test_split\n",
    "\n",
    "y_name = 'stroke'\n",
    "y = df[y_name]\n",
    "y = y.astype(bool)\n",
    "X = df.drop(y_name, axis=1)\n",
    "X.shape"
   ]
  },
  {
   "attachments": {},
   "cell_type": "markdown",
   "metadata": {},
   "source": [
    "For using basick pipeline we need to binarize data. For categorical fields it is quite easy, we will use Sklearn LabelBinarizer. But for numerical fields we need to choose stratage. We have three numerical fields: Age, avg_glucose_level, bmi. For Age we will use range stratage because there are quite popular classification in biology for it. For others we will use at least stratage and set trasholds with 0.25, 0.50, 0.75 percentiles."
   ]
  },
  {
   "cell_type": "code",
   "execution_count": 8,
   "metadata": {},
   "outputs": [],
   "source": [
    "test_size = 0.1"
   ]
  },
  {
   "cell_type": "code",
   "execution_count": 9,
   "metadata": {},
   "outputs": [],
   "source": [
    "X['gender'] = X['gender'].replace({'Male':0,'Female':1,'Other':-1}).astype(np.uint8)\n",
    "X['Residence_type'] = X['Residence_type'].replace({'Rural':0,'Urban':1}).astype(np.uint8)\n",
    "X['work_type'] = X['work_type'].replace({'Private':0,'Self-employed':1,'Govt_job':2,'children':-1,'Never_worked':-2}).astype(np.uint8)\n",
    "X['ever_married'] = X['ever_married'].replace({'No':0,'Yes':1}).astype(np.uint8)\n",
    "X['smoking_status'] = X['smoking_status'].replace({'never smoked':0,'Unknown':1, 'formerly smoked': 2, 'smokes': -1}).astype(np.uint8)\n",
    "\n",
    "X_train, X_test, y_train, y_test = train_test_split(X, y, random_state=42, test_size=test_size, shuffle=True, stratify=y)"
   ]
  },
  {
   "attachments": {},
   "cell_type": "markdown",
   "metadata": {},
   "source": [
    "We can see from our data, that we have much more False targets then True onec. So this will hardly affect our algorithms, so we will use SMOTE (Synthetic Minority Over-sampling Technique) to fix this."
   ]
  },
  {
   "cell_type": "code",
   "execution_count": 10,
   "metadata": {},
   "outputs": [],
   "source": [
    "from imblearn.over_sampling import SMOTE\n",
    "oversample = SMOTE()\n",
    "X_train, y_train = oversample.fit_resample(X_train, y_train.ravel())"
   ]
  },
  {
   "cell_type": "code",
   "execution_count": 11,
   "metadata": {},
   "outputs": [],
   "source": [
    "X_train[categorical] = X_train[categorical].astype(str)\n",
    "X_test[categorical] = X_test[categorical].astype(str)"
   ]
  },
  {
   "cell_type": "code",
   "execution_count": 12,
   "metadata": {},
   "outputs": [
    {
     "data": {
      "text/plain": [
       "((8460, 10), (491, 10))"
      ]
     },
     "execution_count": 12,
     "metadata": {},
     "output_type": "execute_result"
    }
   ],
   "source": [
    "X_train.shape, X_test.shape"
   ]
  },
  {
   "attachments": {},
   "cell_type": "markdown",
   "metadata": {},
   "source": [
    "# Test new proposed algorithm"
   ]
  },
  {
   "cell_type": "code",
   "execution_count": 13,
   "metadata": {},
   "outputs": [
    {
     "name": "stderr",
     "output_type": "stream",
     "text": [
      "Predicting data....: 100%|██████████| 491/491 [00:23<00:00, 21.22it/s]"
     ]
    },
    {
     "name": "stdout",
     "output_type": "stream",
     "text": [
      "CPU times: user 23 s, sys: 193 ms, total: 23.2 s\n",
      "Wall time: 23.2 s\n"
     ]
    },
    {
     "name": "stderr",
     "output_type": "stream",
     "text": [
      "\n"
     ]
    }
   ],
   "source": [
    "%%time\n",
    "from lazy_fca_estimator import LazyFCA\n",
    "import lazy_pipeline as lpipe\n",
    "\n",
    "fca = LazyFCA(\n",
    "    consistency_threshold=0.8,\n",
    "    undefined_treshhold=0.8,\n",
    "    min_extent_size=10,\n",
    "    check_number=1\n",
    ")\n",
    "\n",
    "prediction, t_preds_min = lpipe.apply_stopwatch(fca.predict(X_test, X_train, y_train, generator=True, verbose=1))"
   ]
  },
  {
   "cell_type": "code",
   "execution_count": 14,
   "metadata": {},
   "outputs": [
    {
     "name": "stderr",
     "output_type": "stream",
     "text": [
      "/Users/alexglushko/PycharmProjects/Lazy_FCA/undefine_scores.py:59: RuntimeWarning: invalid value encountered in long_scalars\n",
      "  return np.sum((y_test == predict) & (predict == label)) / np.sum(y_test == label)\n",
      "/Users/alexglushko/PycharmProjects/Lazy_FCA/undefine_scores.py:92: RuntimeWarning: invalid value encountered in long_scalars\n",
      "  return np.sum((y_test == predict) & (predict == label)) / np.sum(predict == label)\n",
      "/Users/alexglushko/PycharmProjects/Lazy_FCA/undefine_scores.py:59: RuntimeWarning: invalid value encountered in long_scalars\n",
      "  return np.sum((y_test == predict) & (predict == label)) / np.sum(y_test == label)\n",
      "/Users/alexglushko/PycharmProjects/Lazy_FCA/undefine_scores.py:92: RuntimeWarning: invalid value encountered in long_scalars\n",
      "  return np.sum((y_test == predict) & (predict == label)) / np.sum(predict == label)\n",
      "/Users/alexglushko/PycharmProjects/Lazy_FCA/undefine_scores.py:59: RuntimeWarning: invalid value encountered in long_scalars\n",
      "  return np.sum((y_test == predict) & (predict == label)) / np.sum(y_test == label)\n",
      "/Users/alexglushko/PycharmProjects/Lazy_FCA/undefine_scores.py:92: RuntimeWarning: invalid value encountered in long_scalars\n",
      "  return np.sum((y_test == predict) & (predict == label)) / np.sum(predict == label)\n",
      "/Users/alexglushko/PycharmProjects/Lazy_FCA/undefine_scores.py:59: RuntimeWarning: invalid value encountered in long_scalars\n",
      "  return np.sum((y_test == predict) & (predict == label)) / np.sum(y_test == label)\n",
      "/Users/alexglushko/PycharmProjects/Lazy_FCA/undefine_scores.py:92: RuntimeWarning: invalid value encountered in long_scalars\n",
      "  return np.sum((y_test == predict) & (predict == label)) / np.sum(predict == label)\n",
      "/Users/alexglushko/PycharmProjects/Lazy_FCA/undefine_scores.py:59: RuntimeWarning: invalid value encountered in long_scalars\n",
      "  return np.sum((y_test == predict) & (predict == label)) / np.sum(y_test == label)\n",
      "/Users/alexglushko/PycharmProjects/Lazy_FCA/undefine_scores.py:92: RuntimeWarning: invalid value encountered in long_scalars\n",
      "  return np.sum((y_test == predict) & (predict == label)) / np.sum(predict == label)\n",
      "/Users/alexglushko/PycharmProjects/Lazy_FCA/undefine_scores.py:59: RuntimeWarning: invalid value encountered in long_scalars\n",
      "  return np.sum((y_test == predict) & (predict == label)) / np.sum(y_test == label)\n",
      "/Users/alexglushko/PycharmProjects/Lazy_FCA/undefine_scores.py:92: RuntimeWarning: invalid value encountered in long_scalars\n",
      "  return np.sum((y_test == predict) & (predict == label)) / np.sum(predict == label)\n",
      "/Users/alexglushko/PycharmProjects/Lazy_FCA/undefine_scores.py:59: RuntimeWarning: invalid value encountered in long_scalars\n",
      "  return np.sum((y_test == predict) & (predict == label)) / np.sum(y_test == label)\n",
      "/Users/alexglushko/PycharmProjects/Lazy_FCA/undefine_scores.py:59: RuntimeWarning: invalid value encountered in long_scalars\n",
      "  return np.sum((y_test == predict) & (predict == label)) / np.sum(y_test == label)\n",
      "/Users/alexglushko/PycharmProjects/Lazy_FCA/undefine_scores.py:59: RuntimeWarning: invalid value encountered in long_scalars\n",
      "  return np.sum((y_test == predict) & (predict == label)) / np.sum(y_test == label)\n",
      "/Users/alexglushko/PycharmProjects/Lazy_FCA/undefine_scores.py:59: RuntimeWarning: invalid value encountered in long_scalars\n",
      "  return np.sum((y_test == predict) & (predict == label)) / np.sum(y_test == label)\n",
      "/Users/alexglushko/PycharmProjects/Lazy_FCA/undefine_scores.py:59: RuntimeWarning: invalid value encountered in long_scalars\n",
      "  return np.sum((y_test == predict) & (predict == label)) / np.sum(y_test == label)\n",
      "/Users/alexglushko/PycharmProjects/Lazy_FCA/undefine_scores.py:59: RuntimeWarning: invalid value encountered in long_scalars\n",
      "  return np.sum((y_test == predict) & (predict == label)) / np.sum(y_test == label)\n",
      "/Users/alexglushko/PycharmProjects/Lazy_FCA/undefine_scores.py:59: RuntimeWarning: invalid value encountered in long_scalars\n",
      "  return np.sum((y_test == predict) & (predict == label)) / np.sum(y_test == label)\n",
      "/Users/alexglushko/PycharmProjects/Lazy_FCA/undefine_scores.py:59: RuntimeWarning: invalid value encountered in long_scalars\n",
      "  return np.sum((y_test == predict) & (predict == label)) / np.sum(y_test == label)\n",
      "/Users/alexglushko/PycharmProjects/Lazy_FCA/undefine_scores.py:59: RuntimeWarning: invalid value encountered in long_scalars\n",
      "  return np.sum((y_test == predict) & (predict == label)) / np.sum(y_test == label)\n",
      "/Users/alexglushko/PycharmProjects/Lazy_FCA/undefine_scores.py:59: RuntimeWarning: invalid value encountered in long_scalars\n",
      "  return np.sum((y_test == predict) & (predict == label)) / np.sum(y_test == label)\n",
      "/Users/alexglushko/PycharmProjects/Lazy_FCA/undefine_scores.py:59: RuntimeWarning: invalid value encountered in long_scalars\n",
      "  return np.sum((y_test == predict) & (predict == label)) / np.sum(y_test == label)\n",
      "/Users/alexglushko/PycharmProjects/Lazy_FCA/undefine_scores.py:59: RuntimeWarning: invalid value encountered in long_scalars\n",
      "  return np.sum((y_test == predict) & (predict == label)) / np.sum(y_test == label)\n",
      "/Users/alexglushko/PycharmProjects/Lazy_FCA/undefine_scores.py:59: RuntimeWarning: invalid value encountered in long_scalars\n",
      "  return np.sum((y_test == predict) & (predict == label)) / np.sum(y_test == label)\n",
      "/Users/alexglushko/PycharmProjects/Lazy_FCA/undefine_scores.py:59: RuntimeWarning: invalid value encountered in long_scalars\n",
      "  return np.sum((y_test == predict) & (predict == label)) / np.sum(y_test == label)\n",
      "/Users/alexglushko/PycharmProjects/Lazy_FCA/undefine_scores.py:59: RuntimeWarning: invalid value encountered in long_scalars\n",
      "  return np.sum((y_test == predict) & (predict == label)) / np.sum(y_test == label)\n",
      "/Users/alexglushko/PycharmProjects/Lazy_FCA/undefine_scores.py:59: RuntimeWarning: invalid value encountered in long_scalars\n",
      "  return np.sum((y_test == predict) & (predict == label)) / np.sum(y_test == label)\n",
      "/Users/alexglushko/PycharmProjects/Lazy_FCA/undefine_scores.py:59: RuntimeWarning: invalid value encountered in long_scalars\n",
      "  return np.sum((y_test == predict) & (predict == label)) / np.sum(y_test == label)\n",
      "/Users/alexglushko/PycharmProjects/Lazy_FCA/undefine_scores.py:59: RuntimeWarning: invalid value encountered in long_scalars\n",
      "  return np.sum((y_test == predict) & (predict == label)) / np.sum(y_test == label)\n",
      "/Users/alexglushko/PycharmProjects/Lazy_FCA/undefine_scores.py:59: RuntimeWarning: invalid value encountered in long_scalars\n",
      "  return np.sum((y_test == predict) & (predict == label)) / np.sum(y_test == label)\n",
      "/Users/alexglushko/PycharmProjects/Lazy_FCA/undefine_scores.py:59: RuntimeWarning: invalid value encountered in long_scalars\n",
      "  return np.sum((y_test == predict) & (predict == label)) / np.sum(y_test == label)\n",
      "/Users/alexglushko/PycharmProjects/Lazy_FCA/undefine_scores.py:59: RuntimeWarning: invalid value encountered in long_scalars\n",
      "  return np.sum((y_test == predict) & (predict == label)) / np.sum(y_test == label)\n",
      "/Users/alexglushko/PycharmProjects/Lazy_FCA/undefine_scores.py:59: RuntimeWarning: invalid value encountered in long_scalars\n",
      "  return np.sum((y_test == predict) & (predict == label)) / np.sum(y_test == label)\n",
      "/Users/alexglushko/PycharmProjects/Lazy_FCA/undefine_scores.py:59: RuntimeWarning: invalid value encountered in long_scalars\n",
      "  return np.sum((y_test == predict) & (predict == label)) / np.sum(y_test == label)\n",
      "/Users/alexglushko/PycharmProjects/Lazy_FCA/undefine_scores.py:59: RuntimeWarning: invalid value encountered in long_scalars\n",
      "  return np.sum((y_test == predict) & (predict == label)) / np.sum(y_test == label)\n",
      "/Users/alexglushko/PycharmProjects/Lazy_FCA/undefine_scores.py:59: RuntimeWarning: invalid value encountered in long_scalars\n",
      "  return np.sum((y_test == predict) & (predict == label)) / np.sum(y_test == label)\n",
      "/Users/alexglushko/PycharmProjects/Lazy_FCA/undefine_scores.py:59: RuntimeWarning: invalid value encountered in long_scalars\n",
      "  return np.sum((y_test == predict) & (predict == label)) / np.sum(y_test == label)\n",
      "/Users/alexglushko/PycharmProjects/Lazy_FCA/undefine_scores.py:59: RuntimeWarning: invalid value encountered in long_scalars\n",
      "  return np.sum((y_test == predict) & (predict == label)) / np.sum(y_test == label)\n",
      "/Users/alexglushko/PycharmProjects/Lazy_FCA/undefine_scores.py:59: RuntimeWarning: invalid value encountered in long_scalars\n",
      "  return np.sum((y_test == predict) & (predict == label)) / np.sum(y_test == label)\n",
      "/Users/alexglushko/PycharmProjects/Lazy_FCA/undefine_scores.py:59: RuntimeWarning: invalid value encountered in long_scalars\n",
      "  return np.sum((y_test == predict) & (predict == label)) / np.sum(y_test == label)\n",
      "/Users/alexglushko/PycharmProjects/Lazy_FCA/undefine_scores.py:59: RuntimeWarning: invalid value encountered in long_scalars\n",
      "  return np.sum((y_test == predict) & (predict == label)) / np.sum(y_test == label)\n",
      "/Users/alexglushko/PycharmProjects/Lazy_FCA/undefine_scores.py:59: RuntimeWarning: invalid value encountered in long_scalars\n",
      "  return np.sum((y_test == predict) & (predict == label)) / np.sum(y_test == label)\n",
      "/Users/alexglushko/PycharmProjects/Lazy_FCA/undefine_scores.py:59: RuntimeWarning: invalid value encountered in long_scalars\n",
      "  return np.sum((y_test == predict) & (predict == label)) / np.sum(y_test == label)\n",
      "/Users/alexglushko/PycharmProjects/Lazy_FCA/undefine_scores.py:59: RuntimeWarning: invalid value encountered in long_scalars\n",
      "  return np.sum((y_test == predict) & (predict == label)) / np.sum(y_test == label)\n",
      "/Users/alexglushko/PycharmProjects/Lazy_FCA/undefine_scores.py:59: RuntimeWarning: invalid value encountered in long_scalars\n",
      "  return np.sum((y_test == predict) & (predict == label)) / np.sum(y_test == label)\n",
      "/Users/alexglushko/PycharmProjects/Lazy_FCA/undefine_scores.py:59: RuntimeWarning: invalid value encountered in long_scalars\n",
      "  return np.sum((y_test == predict) & (predict == label)) / np.sum(y_test == label)\n",
      "/Users/alexglushko/PycharmProjects/Lazy_FCA/undefine_scores.py:59: RuntimeWarning: invalid value encountered in long_scalars\n",
      "  return np.sum((y_test == predict) & (predict == label)) / np.sum(y_test == label)\n",
      "/Users/alexglushko/PycharmProjects/Lazy_FCA/undefine_scores.py:59: RuntimeWarning: invalid value encountered in long_scalars\n",
      "  return np.sum((y_test == predict) & (predict == label)) / np.sum(y_test == label)\n",
      "/Users/alexglushko/PycharmProjects/Lazy_FCA/undefine_scores.py:59: RuntimeWarning: invalid value encountered in long_scalars\n",
      "  return np.sum((y_test == predict) & (predict == label)) / np.sum(y_test == label)\n",
      "/Users/alexglushko/PycharmProjects/Lazy_FCA/undefine_scores.py:59: RuntimeWarning: invalid value encountered in long_scalars\n",
      "  return np.sum((y_test == predict) & (predict == label)) / np.sum(y_test == label)\n",
      "/Users/alexglushko/PycharmProjects/Lazy_FCA/undefine_scores.py:59: RuntimeWarning: invalid value encountered in long_scalars\n",
      "  return np.sum((y_test == predict) & (predict == label)) / np.sum(y_test == label)\n",
      "/Users/alexglushko/PycharmProjects/Lazy_FCA/undefine_scores.py:59: RuntimeWarning: invalid value encountered in long_scalars\n",
      "  return np.sum((y_test == predict) & (predict == label)) / np.sum(y_test == label)\n",
      "/Users/alexglushko/PycharmProjects/Lazy_FCA/undefine_scores.py:59: RuntimeWarning: invalid value encountered in long_scalars\n",
      "  return np.sum((y_test == predict) & (predict == label)) / np.sum(y_test == label)\n",
      "/Users/alexglushko/PycharmProjects/Lazy_FCA/undefine_scores.py:59: RuntimeWarning: invalid value encountered in long_scalars\n",
      "  return np.sum((y_test == predict) & (predict == label)) / np.sum(y_test == label)\n",
      "/Users/alexglushko/PycharmProjects/Lazy_FCA/undefine_scores.py:59: RuntimeWarning: invalid value encountered in long_scalars\n",
      "  return np.sum((y_test == predict) & (predict == label)) / np.sum(y_test == label)\n",
      "/Users/alexglushko/PycharmProjects/Lazy_FCA/undefine_scores.py:59: RuntimeWarning: invalid value encountered in long_scalars\n",
      "  return np.sum((y_test == predict) & (predict == label)) / np.sum(y_test == label)\n",
      "/Users/alexglushko/PycharmProjects/Lazy_FCA/undefine_scores.py:59: RuntimeWarning: invalid value encountered in long_scalars\n",
      "  return np.sum((y_test == predict) & (predict == label)) / np.sum(y_test == label)\n",
      "/Users/alexglushko/PycharmProjects/Lazy_FCA/undefine_scores.py:59: RuntimeWarning: invalid value encountered in long_scalars\n",
      "  return np.sum((y_test == predict) & (predict == label)) / np.sum(y_test == label)\n",
      "/Users/alexglushko/PycharmProjects/Lazy_FCA/undefine_scores.py:59: RuntimeWarning: invalid value encountered in long_scalars\n",
      "  return np.sum((y_test == predict) & (predict == label)) / np.sum(y_test == label)\n",
      "/Users/alexglushko/PycharmProjects/Lazy_FCA/undefine_scores.py:59: RuntimeWarning: invalid value encountered in long_scalars\n",
      "  return np.sum((y_test == predict) & (predict == label)) / np.sum(y_test == label)\n",
      "/Users/alexglushko/PycharmProjects/Lazy_FCA/undefine_scores.py:59: RuntimeWarning: invalid value encountered in long_scalars\n",
      "  return np.sum((y_test == predict) & (predict == label)) / np.sum(y_test == label)\n"
     ]
    }
   ],
   "source": [
    "from undefine_scores import f1_undefine_score, accuracy_undefine_score, recall_undefine_score\n",
    "score_vals = {}\n",
    "preds = prediction\n",
    "score_vals['accuracy_score_new'] = [accuracy_undefine_score(y_test.iloc[:i], preds[:i]) for i in range(1, len(preds))]\n",
    "score_vals['f1_score_new'] = [f1_undefine_score(y_test.iloc[:i], preds[:i], pos_label=True) for i in range(1, len(preds))]\n",
    "score_vals['recall_score_new'] = [recall_undefine_score(y_test.iloc[:i], preds[:i], pos_label=True) for i in range(1, len(preds))]"
   ]
  },
  {
   "attachments": {},
   "cell_type": "markdown",
   "metadata": {},
   "source": [
    "# Popular estimators"
   ]
  },
  {
   "cell_type": "code",
   "execution_count": 15,
   "metadata": {},
   "outputs": [],
   "source": [
    "from sklearn.preprocessing import StandardScaler\n",
    "\n",
    "normalizer = StandardScaler()\n",
    "normalizer.fit(X)\n",
    "X_normalized = normalizer.transform(X)\n",
    "X_train, X_test, y_train, y_test = train_test_split(X_normalized, y, random_state=42, test_size=test_size, shuffle=True, stratify=y)\n",
    "oversample = SMOTE()\n",
    "X_train, y_train = oversample.fit_resample(X_train, y_train.ravel())\n"
   ]
  },
  {
   "cell_type": "code",
   "execution_count": 16,
   "metadata": {},
   "outputs": [
    {
     "name": "stdout",
     "output_type": "stream",
     "text": [
      "Fitting 5 folds for each of 6 candidates, totalling 30 fits\n",
      "Best params: {'C': 0.0001}\n",
      "Best cross validaton score 0.77\n"
     ]
    }
   ],
   "source": [
    "from sklearn.linear_model import LogisticRegression\n",
    "from sklearn.model_selection import GridSearchCV, StratifiedKFold\n",
    "\n",
    "lr = LogisticRegression(random_state=5, class_weight=\"balanced\", max_iter=1000)\n",
    "\n",
    "parameters = {\"C\": (0.0001, 0.001, 0.01, 0.1, 1, 10)}\n",
    "\n",
    "skf = StratifiedKFold(n_splits=5, shuffle=True, random_state=42)\n",
    "\n",
    "logit_cv = GridSearchCV(lr, parameters, scoring='accuracy', cv=skf, n_jobs=-1, verbose=1)\n",
    "logit_cv.fit(X_normalized, y)\n",
    "logit_cv_estimator = logit_cv.best_estimator_\n",
    "prediction_lr = logit_cv_estimator.predict(X_test)\n",
    "print(\"Best params:\", logit_cv.best_params_)\n",
    "print(\"Best cross validaton score %.2f\"%(logit_cv.best_score_))"
   ]
  },
  {
   "cell_type": "code",
   "execution_count": 17,
   "metadata": {},
   "outputs": [],
   "source": [
    "from sklearn.metrics import accuracy_score, f1_score, recall_score\n",
    "preds = prediction_lr\n",
    "score_vals['accuracy_score_lr'] = [accuracy_score(y_test.iloc[:i], preds[:i]) for i in range(1, len(preds))]\n",
    "score_vals['f1_score_lr'] = [f1_score(y_test.iloc[:i], preds[:i], zero_division=0) for i in range(1, len(preds))]\n",
    "score_vals['recall_score_lr'] = [recall_score(y_test.iloc[:i], preds[:i], zero_division=0) for i in range(1, len(preds))]"
   ]
  },
  {
   "cell_type": "code",
   "execution_count": 18,
   "metadata": {},
   "outputs": [
    {
     "name": "stdout",
     "output_type": "stream",
     "text": [
      "Fitting 5 folds for each of 54 candidates, totalling 270 fits\n",
      "Best params: {'C': 3, 'gamma': 0.1}\n",
      "Best cross validaton score 0.96\n"
     ]
    }
   ],
   "source": [
    "from sklearn.svm import SVC\n",
    "\n",
    "svc = SVC(random_state=5)\n",
    "\n",
    "parameters = {\n",
    "    \"C\":np.arange(1,10,1),\n",
    "    'gamma':[0.00001, 0.0001,0.001,0.01,0.1,1]\n",
    "}\n",
    "\n",
    "skf = StratifiedKFold(n_splits=5, shuffle=True, random_state=42)\n",
    "\n",
    "svc_cv = GridSearchCV(svc, parameters, scoring='accuracy', cv=skf, n_jobs=-1, verbose=1)\n",
    "svc_cv.fit(X_normalized, y)\n",
    "svc_best = svc_cv.best_estimator_\n",
    "prediction_svc = svc_best.predict(X_test)\n",
    "print(\"Best params:\", svc_cv.best_params_)\n",
    "print(\"Best cross validaton score %.2f\"%(svc_cv.best_score_))"
   ]
  },
  {
   "cell_type": "code",
   "execution_count": 19,
   "metadata": {},
   "outputs": [],
   "source": [
    "preds = prediction_svc\n",
    "score_vals['accuracy_score_svc'] = [accuracy_score(y_test.iloc[:i], preds[:i]) for i in range(1, len(preds))]\n",
    "score_vals['f1_score_svc'] = [f1_score(y_test.iloc[:i], preds[:i], zero_division=0) for i in range(1, len(preds))]\n",
    "score_vals['recall_score_svc'] = [recall_score(y_test.iloc[:i], preds[:i], zero_division=0) for i in range(1, len(preds))]"
   ]
  },
  {
   "cell_type": "code",
   "execution_count": 20,
   "metadata": {},
   "outputs": [
    {
     "name": "stdout",
     "output_type": "stream",
     "text": [
      "Fitting 5 folds for each of 36 candidates, totalling 180 fits\n",
      "Best params: {'max_depth': 15, 'max_features': 4, 'min_samples_leaf': 3}\n",
      "Best cross validaton score 0.95\n"
     ]
    }
   ],
   "source": [
    "\n",
    "from sklearn.ensemble import RandomForestClassifier\n",
    "\n",
    "rf = RandomForestClassifier(\n",
    "    n_estimators=100,\n",
    "    n_jobs=-1,\n",
    "    random_state=42,\n",
    "    oob_score=True,\n",
    "    class_weight=\"balanced\",\n",
    ")\n",
    "\n",
    "parameters = {\n",
    "    \"max_features\": [1, 2, 4],\n",
    "    \"min_samples_leaf\": [3, 5, 7, 9],\n",
    "    \"max_depth\": [5, 10, 15],\n",
    "}\n",
    "\n",
    "rf_cv = GridSearchCV(rf, parameters, scoring='accuracy', cv=skf, n_jobs=-1, verbose=1)\n",
    "rf_cv.fit(X_normalized, y)\n",
    "best_forest = rf_cv.best_estimator_\n",
    "prediction_forest = best_forest.predict(X_test)\n",
    "print(\"Best params:\", rf_cv.best_params_)\n",
    "print(\"Best cross validaton score %.2f\"%(rf_cv.best_score_))"
   ]
  },
  {
   "cell_type": "code",
   "execution_count": 21,
   "metadata": {},
   "outputs": [],
   "source": [
    "preds = prediction_forest\n",
    "score_vals['accuracy_score_rf'] = [accuracy_score(y_test.iloc[:i], preds[:i]) for i in range(1, len(preds))]\n",
    "score_vals['f1_score_rf'] = [f1_score(y_test.iloc[:i], preds[:i], zero_division=0) for i in range(1, len(preds))]\n",
    "score_vals['recall_score_rf'] = [recall_score(y_test.iloc[:i], preds[:i], zero_division=0) for i in range(1, len(preds))]"
   ]
  },
  {
   "attachments": {},
   "cell_type": "markdown",
   "metadata": {},
   "source": [
    "# Compare"
   ]
  },
  {
   "cell_type": "code",
   "execution_count": 22,
   "metadata": {},
   "outputs": [],
   "source": [
    "n_train = int(len(X)*(1 - test_size))"
   ]
  },
  {
   "cell_type": "code",
   "execution_count": 23,
   "metadata": {},
   "outputs": [
    {
     "data": {
      "image/png": "[encoded data removed]",
      "text/plain": [
       "<Figure size 1200x800 with 4 Axes>"
      ]
     },
     "metadata": {},
     "output_type": "display_data"
    }
   ],
   "source": [
    "import matplotlib.pyplot as plt\n",
    "plt.rcParams['figure.facecolor'] = (1,1,1,1)  # Replace default \"transparent\" background of the figure with the \"white\" one\n",
    "\n",
    "\n",
    "fig, axs = plt.subplots(2, 2, figsize=(12, 8))\n",
    "\n",
    "# First two plots are for prediction quality comparison\n",
    "for ax, t in zip(axs[0],['accuracy_score', 'f1_score']):\n",
    "    ax.set_ylim(0-0.05, 1+0.05)\n",
    "    ax.plot(range(n_train+1, len(X)), score_vals[t+'_rf'], label='random forest')\n",
    "    ax.plot(range(n_train+1, len(X)), score_vals[t+'_lr'], label='logistic regression')\n",
    "    ax.plot(range(n_train+1, len(X)), score_vals[t+'_new'], label='new clf.')\n",
    "    ax.plot(range(n_train+1, len(X)), score_vals[t+'_svc'], label='SVC')\n",
    "    \n",
    "for ax, t in zip(axs[1],['recall_score',]):\n",
    "    ax.set_ylim(0-0.05, 1+0.05)\n",
    "    ax.plot(range(n_train+1, len(X)), score_vals[t+'_rf'], label='random forest')\n",
    "    ax.plot(range(n_train+1, len(X)), score_vals[t+'_lr'], label='logistic regression')\n",
    "    ax.plot(range(n_train+1, len(X)), score_vals[t+'_new'], label='new clf.')\n",
    "    ax.plot(range(n_train+1, len(X)), score_vals[t+'_svc'], label='SVC')\n",
    "\n",
    "# Add labels and titles to the plots\n",
    "for (ax, t_verb, dim) in zip(axs.flatten(), ['Accuracy score', 'F1 score', 'Recall score'], ['','', '']):\n",
    "    ax.set_title('\\n'.join([f\"{t_verb} progression\", \"w.r.t. the number of train examples\"]), loc='left', size=18)\n",
    "    ax.set_xlabel('# of train examples', loc='right', size=14)\n",
    "    ax.set_ylabel(f\"{t_verb} {dim}\".strip(), loc='top', size=14)\n",
    "    ax.legend()\n",
    "    \n",
    "# Drop the predefined fourth plot since we do not use it\n",
    "axs[1,1].set_axis_off()    \n",
    "\n",
    "# Some postprocessing of plots\n",
    "plt.tight_layout()\n",
    "plt.subplots_adjust()\n",
    "\n",
    "plt.savefig('image/Classifier_comparison_healthcare_sklearn.png')\n",
    "plt.show()"
   ]
  },
  {
   "cell_type": "code",
   "execution_count": null,
   "metadata": {},
   "outputs": [],
   "source": []
  }
 ],
 "metadata": {
  "kernelspec": {
   "display_name": "venv",
   "language": "python",
   "name": "python3"
  },
  "language_info": {
   "codemirror_mode": {
    "name": "ipython",
    "version": 3
   },
   "file_extension": ".py",
   "mimetype": "text/x-python",
   "name": "python",
   "nbconvert_exporter": "python",
   "pygments_lexer": "ipython3",
   "version": "3.9.12"
  },
  "orig_nbformat": 4,
  "vscode": {
   "interpreter": {
    "hash": "9482c9d8fa917704c2612eb7f418ce28475c88fd9a173985949ba8e27ae3546c"
   }
  }
 },
 "nbformat": 4,
 "nbformat_minor": 2
}
